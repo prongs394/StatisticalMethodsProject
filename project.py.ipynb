{
 "cells": [
  {
   "cell_type": "markdown",
   "id": "a50f82f9",
   "metadata": {},
   "source": [
    "Hamed Marvi - 610396143\n",
    "## Table of content:\n",
    "\n",
    "* reading the data set\n",
    "* choosing two columns to work with (petallength and petalwidth)\n",
    "    - finding correlation between petallength and petalwidth\n",
    "    - Linear Regression Using Least Squares (and drawing the fit line)\n",
    "    - calculating: SSR , TSS , SSE , MSE , MSR\n",
    "    - confidence interval for b_1\n",
    "    - confidence interval for b_0\n",
    "    - prediction interval \n",
    "* hartley test for homogeneity of variance (to see if we can perform the ANOVA test)\n",
    " \n",
    "\n",
    "\n"
   ]
  },
  {
   "cell_type": "code",
   "execution_count": 1,
   "id": "f66ecd96",
   "metadata": {},
   "outputs": [],
   "source": [
    "import pandas as pd\n",
    "import numpy as np\n",
    "import plotly.express as px\n",
    "import matplotlib.pyplot as plot\n",
    "\n"
   ]
  },
  {
   "cell_type": "markdown",
   "id": "97942465",
   "metadata": {},
   "source": [
    "# Reading the dataset"
   ]
  },
  {
   "cell_type": "code",
   "execution_count": 2,
   "id": "02d32c6a",
   "metadata": {
    "scrolled": true
   },
   "outputs": [
    {
     "name": "stdout",
     "output_type": "stream",
     "text": [
      "     sepallength  sepalwidth  petallength  petalwidth           class\n",
      "0            5.1         3.5          1.4         0.2     Iris-setosa\n",
      "1            4.9         3.0          1.4         0.2     Iris-setosa\n",
      "2            4.7         3.2          1.3         0.2     Iris-setosa\n",
      "3            4.6         3.1          1.5         0.2     Iris-setosa\n",
      "4            5.0         3.6          1.4         0.2     Iris-setosa\n",
      "..           ...         ...          ...         ...             ...\n",
      "145          6.7         3.0          5.2         2.3  Iris-virginica\n",
      "146          6.3         2.5          5.0         1.9  Iris-virginica\n",
      "147          6.5         3.0          5.2         2.0  Iris-virginica\n",
      "148          6.2         3.4          5.4         2.3  Iris-virginica\n",
      "149          5.9         3.0          5.1         1.8  Iris-virginica\n",
      "\n",
      "[150 rows x 5 columns]\n"
     ]
    }
   ],
   "source": [
    "df = pd.read_csv ('iris.csv')\n",
    "print (df)"
   ]
  },
  {
   "cell_type": "markdown",
   "id": "1a2be74f",
   "metadata": {},
   "source": [
    "# choosing two columns to work with\n",
    "    (petallength and petalwidth)\n"
   ]
  },
  {
   "cell_type": "code",
   "execution_count": 3,
   "id": "d35278b9",
   "metadata": {},
   "outputs": [],
   "source": [
    "petallength = pd.DataFrame(df['petallength'].values)\n",
    "petalwidth = pd.DataFrame(df['petalwidth'].values)\n",
    "\n",
    "#converting to list\n",
    "petallen = []\n",
    "for i in range(len(petallength)):\n",
    "    petallen.append(petallength[0][i])\n",
    "    \n",
    "petalwid = []\n",
    "for i in range(len(petalwidth)):\n",
    "    petalwid.append(petalwidth[0][i])\n",
    "    \n",
    "x = petallen[0:150]\n",
    "y = petalwid[0:150]\n",
    "#print(x[46])\n",
    "#print(y[46])\n"
   ]
  },
  {
   "cell_type": "code",
   "execution_count": 4,
   "id": "d9ffeadd",
   "metadata": {},
   "outputs": [],
   "source": [
    "# function to calculate mean of an attribute: \n",
    "def mean(a):\n",
    "    sum = 0\n",
    "    for i in range(len(a)):\n",
    "        sum = sum+a[i]\n",
    "    sum = sum/len(a)\n",
    "    return sum"
   ]
  },
  {
   "cell_type": "markdown",
   "id": "8fc8ebe2",
   "metadata": {},
   "source": [
    "* finding correlation between petallength and petalwidth"
   ]
  },
  {
   "cell_type": "code",
   "execution_count": 5,
   "id": "5c42d5c7",
   "metadata": {},
   "outputs": [
    {
     "name": "stdout",
     "output_type": "stream",
     "text": [
      "correlation is:  0.9627570970509672\n"
     ]
    }
   ],
   "source": [
    "m_x = mean(x)\n",
    "m_y = mean(y)\n",
    "  \n",
    "n = len(x)\n",
    "x = np.array(x)\n",
    "y = np.array(y)\n",
    "SS_xy = np.sum(y*x) - n*m_y*m_x\n",
    "SS_xx = np.sum(x*x) - n*m_x*m_x\n",
    "SS_yy = np.sum(y*y) - n*m_y*m_y\n",
    "\n",
    "correlation = SS_xy/((SS_xx**0.5)*(SS_yy**0.5))\n",
    "print(\"correlation is: \",correlation)\n"
   ]
  },
  {
   "cell_type": "markdown",
   "id": "d29d5ca2",
   "metadata": {},
   "source": [
    "* Linear Regression Using Least Squares "
   ]
  },
  {
   "cell_type": "code",
   "execution_count": 6,
   "id": "cb06d371",
   "metadata": {},
   "outputs": [
    {
     "name": "stdout",
     "output_type": "stream",
     "text": [
      "line is: 0.4164191322854023 *x+ -0.3665140452167326\n"
     ]
    }
   ],
   "source": [
    "#y = b_1*x + b_0\n",
    "b_1 = SS_xy / SS_xx\n",
    "b_0 = m_y - b_1*m_x\n",
    "print(\"line is:\", b_1,\"*x+\",b_0)\n",
    "#print(\"x is:\",petallen[110])\n",
    "#print(\"y is:\",petalwid[110])\n",
    "#print(\"estimation is:\",b_1*petallen[130]+b_0)\n"
   ]
  },
  {
   "cell_type": "markdown",
   "id": "e9a20fe1",
   "metadata": {},
   "source": [
    "drawing the fit line"
   ]
  },
  {
   "cell_type": "code",
   "execution_count": 7,
   "id": "ca85f8dc",
   "metadata": {},
   "outputs": [
    {
     "data": {
      "image/png": "[encoded data removed]",
      "text/plain": [
       "<Figure size 432x288 with 1 Axes>"
      ]
     },
     "metadata": {
      "needs_background": "light"
     },
     "output_type": "display_data"
    }
   ],
   "source": [
    "import matplotlib.pyplot as plt\n",
    "\n",
    "plt.scatter(petallen, petalwid,color = \"m\",\n",
    "               marker = \"o\", s = 30)\n",
    "y_pred = b_0 + b_1*x\n",
    "plt.plot(x, y_pred, color = \"g\")\n",
    "\n",
    "\n",
    "plot.show()"
   ]
  },
  {
   "cell_type": "markdown",
   "id": "06ce2df7",
   "metadata": {},
   "source": [
    "* calculating:\n",
    "    - SSR\n",
    "    - TSS\n",
    "    - SSE\n",
    "    - MSE\n",
    "    - MSR\n",
    "    "
   ]
  },
  {
   "cell_type": "code",
   "execution_count": 8,
   "id": "3c349363",
   "metadata": {},
   "outputs": [
    {
     "name": "stdout",
     "output_type": "stream",
     "text": [
      "SSR:  80.43624138541065\n"
     ]
    }
   ],
   "source": [
    "SSR = b_1 * SS_xy\n",
    "print(\"SSR: \",SSR)"
   ]
  },
  {
   "cell_type": "code",
   "execution_count": 9,
   "id": "b39fc585",
   "metadata": {},
   "outputs": [
    {
     "name": "stdout",
     "output_type": "stream",
     "text": [
      "TSS:  86.7797333333331\n"
     ]
    }
   ],
   "source": [
    "TSS = SS_yy\n",
    "print(\"TSS: \",TSS)"
   ]
  },
  {
   "cell_type": "code",
   "execution_count": 10,
   "id": "8380cfbc",
   "metadata": {},
   "outputs": [
    {
     "name": "stdout",
     "output_type": "stream",
     "text": [
      "SSE:  6.343491947922445\n"
     ]
    }
   ],
   "source": [
    "SSE = TSS - SSR\n",
    "print(\"SSE: \",SSE)"
   ]
  },
  {
   "cell_type": "code",
   "execution_count": 11,
   "id": "30b6d8f7",
   "metadata": {},
   "outputs": [
    {
     "name": "stdout",
     "output_type": "stream",
     "text": [
      "MSE:  0.04286143208055706\n"
     ]
    }
   ],
   "source": [
    "dof = n-2  #degree of freedom\n",
    "MSE = SSE/dof\n",
    "print(\"MSE: \",MSE)"
   ]
  },
  {
   "cell_type": "code",
   "execution_count": 12,
   "id": "3099f78c",
   "metadata": {},
   "outputs": [
    {
     "name": "stdout",
     "output_type": "stream",
     "text": [
      "MSR:  80.43624138541065\n"
     ]
    }
   ],
   "source": [
    "MSR = SSR/1\n",
    "print(\"MSR: \",MSR)"
   ]
  },
  {
   "cell_type": "markdown",
   "id": "3f359828",
   "metadata": {},
   "source": [
    "* confidence interval for b_1"
   ]
  },
  {
   "cell_type": "code",
   "execution_count": 13,
   "id": "b85dd4fa",
   "metadata": {},
   "outputs": [
    {
     "name": "stdout",
     "output_type": "stream",
     "text": [
      "confidence interval for b_1 is:[ 0.39742357711583054 , 0.435414687454974 ]\n"
     ]
    }
   ],
   "source": [
    "from scipy import stats\n",
    "#find confidence interval for b_1\n",
    "# alpha is 0.05\n",
    "v = len(x)-2 #120-2 = 118\n",
    "t = stats.t.ppf(1-0.025, v)\n",
    "S2 = SSE/(v) #s^2\n",
    "S = S2**0.5\n",
    "Sx = SS_xx**0.5\n",
    "print(\"confidence interval for b_1 is:[\",b_1 - t*(S/Sx),\",\",b_1 + t*(S/Sx),\"]\")\n",
    "\n",
    "#another formula for b_1's confindence interval:\n",
    "#print(\"confidence interval for b_1 is:[\",b_1 - t*((MSE/SS_xx)**0.5),\",\",b_1 + t*((MSE/SS_xx)**0.5),\"]\") \n"
   ]
  },
  {
   "cell_type": "markdown",
   "id": "24290def",
   "metadata": {},
   "source": [
    "* confidence interval for b_0"
   ]
  },
  {
   "cell_type": "code",
   "execution_count": 14,
   "id": "ab3e6c3c",
   "metadata": {},
   "outputs": [
    {
     "name": "stdout",
     "output_type": "stream",
     "text": [
      "confidence interval is:[ -0.44533987741004477 , -0.2876882130234204 ]\n"
     ]
    }
   ],
   "source": [
    "alpha = 0.05\n",
    "n = len(x)\n",
    "v = len(x)-2 #120-2 = 118\n",
    "t = stats.t.ppf(1-alpha/2, v)\n",
    "# m_x is mean of x\n",
    "print(\"confidence interval is:[\", b_0 - t*S*((1/n + (m_x**2)/SS_xx)**0.5),\",\",b_0 + t*S*((1/n + (m_x**2)/SS_xx)**0.5),\"]\")\n"
   ]
  },
  {
   "cell_type": "markdown",
   "id": "cf85f446",
   "metadata": {},
   "source": [
    "* prediction interval\n",
    "<br>\n",
    "prediction interval for value 1.6 \n",
    "means petallength is 1.6 , what is prediction interval for its petalwidth?"
   ]
  },
  {
   "cell_type": "code",
   "execution_count": 15,
   "id": "9b411380",
   "metadata": {},
   "outputs": [
    {
     "name": "stdout",
     "output_type": "stream",
     "text": [
      "for petal length  1.6  we will find a prediction interval for its petal width. and the real value for petal width is  0.2\n",
      "prediction interval is:[  -0.04577416405528023 , 0.6452872969351025  ]\n"
     ]
    }
   ],
   "source": [
    "print(\"for petal length \",x[46],\" we will find a prediction interval for its petal width. and the real value for petal width is \",y[46])\n",
    "alpha = 0.1\n",
    "n = len(x)\n",
    "v = n-2 #120-2 = 118\n",
    "t = stats.t.ppf(1-alpha/2, v)\n",
    "X = 1 + 1/n + ((x[46]-m_x)**2)/SS_xx\n",
    "S = MSE**0.5\n",
    "print(\"prediction interval is:[ \",b_0 + b_1*x[46] - t * S * X**0.5 , \",\",b_0 + b_1*x[46] + t * S * X**0.5,\" ]\")"
   ]
  },
  {
   "cell_type": "code",
   "execution_count": 16,
   "id": "36e483ad",
   "metadata": {},
   "outputs": [
    {
     "name": "stdout",
     "output_type": "stream",
     "text": [
      "----------  ---  -----------------  -------------------  ------------------\n",
      "source      df   SS                 MS                   F\n",
      "regression  1    80.43624138541065  80.43624138541065    1876.6578128848475\n",
      "error       148  6.343491947922445  0.04286143208055706\n",
      "total       149  86.7797333333331\n",
      "----------  ---  -----------------  -------------------  ------------------\n"
     ]
    }
   ],
   "source": [
    "from tabulate import tabulate\n",
    " \n",
    "\n",
    "F = MSR/MSE\n",
    "table = [\n",
    "    ['source' , 'df' , 'SS' , 'MS' , 'F'],\n",
    "    ['regression',1 , SSR , MSR, F],\n",
    "    ['error' ,n-2 , SSE , MSE],\n",
    "    ['total' ,n-1 , SS_yy]\n",
    "]\n",
    "# display table\n",
    "print(tabulate(table))"
   ]
  },
  {
   "cell_type": "markdown",
   "id": "04457d04",
   "metadata": {},
   "source": [
    "# hartley test for homogeneity of variance"
   ]
  },
  {
   "cell_type": "code",
   "execution_count": 17,
   "id": "6650ac90",
   "metadata": {},
   "outputs": [],
   "source": [
    "sepallength = pd.DataFrame(df['sepallength'].values)\n",
    "sepalwidth = pd.DataFrame(df['sepalwidth'].values)\n",
    "\n",
    "\n",
    "#converting to list\n",
    "sepallen = []\n",
    "for i in range(len(sepallength)):\n",
    "    sepallen.append(sepallength[0][i])\n",
    "    \n",
    "    \n",
    "#converting to list\n",
    "sepalwid = []\n",
    "for i in range(len(sepalwidth)):\n",
    "    sepalwid.append(sepalwidth[0][i])"
   ]
  },
  {
   "cell_type": "code",
   "execution_count": 18,
   "id": "9909b834",
   "metadata": {},
   "outputs": [],
   "source": [
    "t1 = sepallen[0:150] \n",
    "t2 = sepalwid[0:150]\n",
    "t3 = petallen[0:150]\n",
    "t4 = petalwid[0:150]\n",
    "\n"
   ]
  },
  {
   "cell_type": "markdown",
   "id": "25f31699",
   "metadata": {},
   "source": [
    "* now: \n",
    "    - sepallenght is in t1\n",
    "    - sepal width is in t2\n",
    "    - petal length is in t3\n",
    "    - petal width is in t4\n"
   ]
  },
  {
   "cell_type": "code",
   "execution_count": 19,
   "id": "1d3dce48",
   "metadata": {},
   "outputs": [
    {
     "name": "stdout",
     "output_type": "stream",
     "text": [
      "f: 16.559110305124598\n",
      "F: 2.432373638384786\n",
      "variances are not equal and we can not do the ANOVA test\n"
     ]
    }
   ],
   "source": [
    "import scipy\n",
    "from scipy import stats\n",
    "t1_v = np.var(t1)\n",
    "t2_v = np.var(t2)\n",
    "t3_v = np.var(t3)\n",
    "t4_v = np.var(t4)\n",
    "s2min = min(t1_v , t2_v , t3_v , t4_v)\n",
    "s2max = max(t1_v , t2_v , t3_v , t4_v)\n",
    "f = s2max/s2min\n",
    "alpha = 0.05\n",
    "k=4\n",
    "\n",
    "# F = scipy.stats.f.ppf(alpha , v1 , v2)\n",
    "v2 = n-1\n",
    "v1 = k\n",
    "F = scipy.stats.f.ppf(1-alpha , k , n-1)\n",
    "#if f>F : فرض همگنی واریانس ها را رد میکنیم\n",
    "\n",
    "print(\"f:\",f)\n",
    "print(\"F:\",F)\n",
    "\n",
    "if(f>F):\n",
    "    print(\"variances are not equal and we can not do the ANOVA test\")\n",
    "else:\n",
    "    print(\"variances are equal\")\n",
    "\n",
    "\n",
    "\n",
    "\n",
    "\n"
   ]
  },
  {
   "cell_type": "code",
   "execution_count": null,
   "id": "2f406b76",
   "metadata": {},
   "outputs": [],
   "source": []
  }
 ],
 "metadata": {
  "kernelspec": {
   "display_name": "Python 3",
   "language": "python",
   "name": "python3"
  },
  "language_info": {
   "codemirror_mode": {
    "name": "ipython",
    "version": 3
   },
   "file_extension": ".py",
   "mimetype": "text/x-python",
   "name": "python",
   "nbconvert_exporter": "python",
   "pygments_lexer": "ipython3",
   "version": "3.9.0"
  },
  "vscode": {
   "interpreter": {
    "hash": "14958d3aee5f1cad06795f787e54b96185c25fb40dfec723a5be941f3a531b8c"
   }
  }
 },
 "nbformat": 4,
 "nbformat_minor": 5
}
